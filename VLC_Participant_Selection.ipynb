{
  "nbformat": 4,
  "nbformat_minor": 0,
  "metadata": {
    "colab": {
      "provenance": [],
      "include_colab_link": true
    },
    "kernelspec": {
      "name": "python3",
      "display_name": "Python 3"
    },
    "language_info": {
      "name": "python"
    }
  },
  "cells": [
    {
      "cell_type": "markdown",
      "metadata": {
        "id": "view-in-github",
        "colab_type": "text"
      },
      "source": [
        "<a href=\"https://colab.research.google.com/github/embedashishg/SusAgri/blob/SusAgri/VLC_Participant_Selection.ipynb\" target=\"_parent\"><img src=\"https://colab.research.google.com/assets/colab-badge.svg\" alt=\"Open In Colab\"/></a>"
      ]
    },
    {
      "cell_type": "markdown",
      "source": [
        "This code is to test the implementation of the Rank Sort Algorithm for the VLC\n",
        "\n",
        "Code has 3 parts -\n",
        "  \n",
        "  Part 1 - Open the Short listing sheet and read all the configuration variables. These variables are\n",
        "  1. The Key of the Google sheet which holds the Registered Entry from the Google Form\n",
        "  2. The total number of participants to be shortlisted\n",
        "  3. Cut Off Ranking above which the participant shall be shortlisted\n",
        "\n",
        "  Part 2 - Open the SourceWorkSheet - the key for which is sourced from the variable in part1.\n",
        "  Then move all the entries from the SourceWorkSheet to a Worksheet in the Shortlist Sheet\n",
        "\n",
        "  Part 3 - Run the Ranking algorithm on the basis of the configuration variables feteched in Part 1 and copy the shortlisted entries to Sorted Spreadsheet.   \n",
        "\n"
      ],
      "metadata": {
        "id": "oPez6T_8nhey"
      }
    },
    {
      "cell_type": "code",
      "source": [
        "from google.colab import auth\n",
        "auth.authenticate_user()\n",
        "from google.auth import default\n",
        "creds, _ = default()\n",
        "\n",
        "import gspread\n",
        "from gspread.exceptions import WorksheetNotFound\n",
        "from datetime import datetime\n",
        "\n",
        "import pandas as pd\n",
        "from pandas.core.indexers.utils import Any\n",
        "\n",
        "gc = gspread.authorize(creds)\n",
        "\n",
        "'''\n",
        "This code is to test the implementation of the Rank Sort Algorithm for the VLC\n",
        "\n",
        "Code has 3 parts -\n",
        "  Part 1 - Open the Short listing sheet and read all the configuration variables. These variables are\n",
        "  1. The Key of the Google sheet which holds the Registered Entry from the Google Form\n",
        "  2. The total number of participants to be shortlisted\n",
        "  3. Cut Off Ranking above which the participant shall be shortlisted\n",
        "\n",
        "  Part 2 - Open the SourceWorkSheet - the key for which is sourced from the variable in part1.\n",
        "          Then move all the entries from the SourceWorkSheet to a Worksheet in the Shortlist Sheet\n",
        "\n",
        "  Part 3 - Run the Ranking algorithm on the basis of the configuration variables feteched in Part 1 and copy the shortlisted entries to Sorted Spreadsheet.\n",
        "'''\n",
        "\n",
        "''' Part 1 '''\n",
        "#ShortListSheet - Replace this Key if the Shortlist Sheet changes\n",
        "SpreadSheetFile = gc.open_by_key('1W7vVCSoiVXyw2oWrgsp2YeADrDd-WM0wR7EBDnxGxow')\n",
        "ShortListVariableSheet = SpreadSheetFile.worksheet(\"Configurations\")\n",
        "\n",
        "#rows = ShortListVariableSheet.get_all_values()\n",
        "#print (rows)\n",
        "\n",
        "#Get the Variables to Run the Rank Sort\n",
        "\n",
        "#Variable FormSheet Key to get the All the Participants\n",
        "MatchCell = ShortListVariableSheet.find('Form Sheet Access Key')\n",
        "#print (MatchCell)\n",
        "#print (MatchCell.col, MatchCell.row)\n",
        "AdjacentCell = ShortListVariableSheet.cell(MatchCell.row, MatchCell.col + 1)\n",
        "FormSheetKey = AdjacentCell.value\n",
        "print (FormSheetKey)\n",
        "\n",
        "#Variable Cut-Off Score above which the Rank sort shall run  - Those below this cut-off shall be excluded\n",
        "MatchCell = ShortListVariableSheet.find('Cut-Off Score')\n",
        "#print (MatchCell)\n",
        "#print (MatchCell.col, MatchCell.row)\n",
        "AdjacentCell = ShortListVariableSheet.cell(MatchCell.row, MatchCell.col + 1)\n",
        "CutOffScore =  int(AdjacentCell.value)\n",
        "print (\"Cut Off Score\", CutOffScore)\n",
        "#print (type(CutOffScore))\n",
        "\n",
        "#Variable Number of Participants to Select\n",
        "MatchCell = ShortListVariableSheet.find('Final Participants')\n",
        "#print (MatchCell)\n",
        "#print (MatchCell.col, MatchCell.row)\n",
        "AdjacentCell = ShortListVariableSheet.cell(MatchCell.row, MatchCell.col + 1)\n",
        "FinalParticipants = int(AdjacentCell.value)\n",
        "print (\"Total Participants to Select\", FinalParticipants)\n",
        "#NumberOfParticipantsToShortlist = ShortListVariableSheet.get()\n"
      ],
      "metadata": {
        "id": "ZpBOXbiJj4r3",
        "colab": {
          "base_uri": "https://localhost:8080/"
        },
        "outputId": "882357b5-b14a-4172-e940-fb93162e53a0"
      },
      "execution_count": 2,
      "outputs": [
        {
          "output_type": "stream",
          "name": "stdout",
          "text": [
            "142jW-fMPKTCSAN_YUCWXgmQMnpuAeS-tAeACvf3g0ig\n",
            "Cut Off Score 45\n",
            "Total Participants to Select 10\n"
          ]
        }
      ]
    },
    {
      "cell_type": "markdown",
      "source": [
        "Part 2 - Open the SourceWorkSheet - the key for which is sourced from the variable in part1.\n",
        "          Then move all the entries from the SourceWorkSheet to a Worksheet in the Shortlist Sheet"
      ],
      "metadata": {
        "id": "BIRiulMoqL-j"
      }
    },
    {
      "cell_type": "code",
      "source": [
        "\n",
        "#Ensure Key is changed in case the Form and Google Sheet changes\n",
        "SourceWorksheet = gc.open_by_key(FormSheetKey).sheet1\n",
        "\n",
        "# get_all_values gives a list of rows.\n",
        "AllEntries = SourceWorksheet.get_all_values()\n",
        "\n",
        "\n",
        "#Write to the New Sheet in the current Sheet named 'AllParticipants'\n",
        "\n",
        "try:\n",
        "  AllParticipantsWorksheet = SpreadSheetFile.worksheet('AllParticipants')\n",
        "  AllParticipantsWorksheet.clear()\n",
        "  print (\"AllParticipants Worksheet Exists - Opening It\")\n",
        "except:\n",
        "  AllParticipantsWorksheet = SpreadSheetFile.add_worksheet(title=\"AllParticipants\",rows=SourceWorksheet.row_count,cols=SourceWorksheet.col_count)\n",
        "  print (\"AllParticipants Worksheet Does not Exist - Creating It\")\n",
        "\n",
        "\n",
        "AllParticipantsWorksheet.update(\"A1\", AllEntries)\n",
        "print (AllParticipantsWorksheet.get_all_values())\n",
        "# Convert to a DataFrame and render.\n",
        "\n",
        "#AllParticipantsWorksheet.sort((1, 'asc'))\n"
      ],
      "metadata": {
        "id": "E3iHzKNCqQqz",
        "colab": {
          "base_uri": "https://localhost:8080/"
        },
        "outputId": "e7644a96-1e03-4d68-cfe6-b78e6099eb16"
      },
      "execution_count": 3,
      "outputs": [
        {
          "output_type": "stream",
          "name": "stdout",
          "text": [
            "AllParticipants Worksheet Exists - Opening It\n",
            "[['Timestamp', 'Email address', 'Score', 'Full Name', 'E-mail', 'Gender', 'Country', 'Highest Qualification', 'Work Experience in one of the following ?', 'How confident are you in your English language skills?', 'Please select the option that best describes your experience with social media campaigns.\\nFacebook, Linkedin, X (Formerly known as Twitter) etc', 'Are you representing as an Individual or Organisation?', 'Individual Applicants  ', 'Name of Organisation', 'Designation', 'Organisation Detail', 'I agree that 100% attendance is mandatory for this training.', 'I agree to participate in the training, which will be conducted in the  GMT+2/GMT+5.30 time zone. (Please consider Daylight Saving changes at your location before selecting) '], ['13/09/2023 13:50:31', 'entoanshu@gmail.com', '30 / 50', 'Anshuman semwal', 'anshumanentomology@gmail.com', 'Male', 'India', 'PhD', 'Market Linkage (Supply/Value Chains) (Price Discovery)', 'Proficient', 'Advanced Experience', 'Individual', 'https://drive.google.com/open?id=1V93FHZBkVPL66bpOfT9E3bL2M30Wixmt', '', '', '', 'YES', 'Disagree'], ['13/09/2023 13:56:57', 'anshmnsemwl1995@gmail.com', '40 / 50', 'Anshmali', 'anshmnsemwl1995@gmail.com', 'Female', 'United States of America', 'Under Graduate', 'Market Linkage (Supply/Value Chains) (Price Discovery), Consumer Engagement (Branding) (Outreach)', 'Expert', 'Expert', 'Organisation', '', 'Dr ysp', 'Dean college of forest ', 'https://drive.google.com/open?id=13wLLGBp08k20t9RI0klP4o64QThZVm3J', 'YES', 'I Agree'], ['13/09/2023 16:59:31', 'shreedharbeese@gmail.com', '40 / 50', 'Shreedhar Beese', 'shridhar.rb38@gmail.com', 'Male', 'India', 'PhD', 'Sustainable Production (Agriculture, Fisheries, Animal Husbandry)', 'Proficient', 'Intermediate Experience', 'Individual', 'https://drive.google.com/open?id=1WttIxPX95wHuWMqS4i3R3o9oWugxKvwO', '', '', '', 'YES', 'I Agree'], ['13/09/2023 17:00:31', 'pranabeshnandi10@gmail.com', '40 / 50', 'Pranabesh Nandi ', 'pranabeshnandi10@gmail.com', 'Male', 'India', 'Post Graduate', 'Market Linkage (Supply/Value Chains) (Price Discovery)', 'Proficient', 'Limited Experience', 'Individual', 'https://drive.google.com/open?id=1aUwcu8MEwPEzY_fEbVsvrfu7idjxKdOR', '', '', '', 'YES', 'I Agree'], ['13/09/2023 17:03:11', 'bharathibabuagri@gmail.com', '45 / 50', 'Bharathi B ', 'bharathibabuagri@gmail.com', 'Female', 'India', 'Post Graduate', 'Sustainable Production (Agriculture, Fisheries, Animal Husbandry)', 'Proficient', 'Limited Experience', 'Organisation', '', 'Aggrow Farmer Development Organisation ', 'Digital agri extension officer ', 'https://drive.google.com/open?id=1Wbnj8zUW8XJ-GrikhuCqtr2y2_FWX3Tv', 'YES', 'I Agree'], ['13/09/2023 17:04:43', 'sonalinegi000007@gmail.com', '35 / 50', 'Sonal negi', 'sonalnegi@gmail.com', 'Female', 'Liberia', 'Post Graduate', 'Market Linkage (Supply/Value Chains) (Price Discovery), Financing Sustainable Food Systems (Blended Finance, Financing Transformations)', 'Expert', 'Limited Experience', 'Individual', 'https://drive.google.com/open?id=14Y_N0biWTOK3PrUpWP6a_GuEyz_XOJs7', '', '', '', 'YES', 'Disagree'], ['13/09/2023 17:08:12', 'anshumansemwal123@gmail.com', '40 / 50', 'Gadar2', 'deol@gmil.com', 'Female', 'Pakistan', 'Post Graduate', 'Market Linkage (Supply/Value Chains) (Price Discovery), Food Policy and Advocacy, Education and Research, Food Systems Economics, Networking', 'Basic', 'Intermediate Experience', 'Individual', 'https://drive.google.com/open?id=1qsF1MQtieV6twZeb1DiOQ9YE_XI1IZEI', '', '', '', 'YES', 'I Agree'], ['13/09/2023 17:15:37', 'anshumanentomology@gmail.com', '45 / 50', 'Anshuman ', 'anshumanentomology@gmail.com', 'Male', 'Vanuatu', 'PhD', 'Market Linkage (Supply/Value Chains) (Price Discovery), Consumer Engagement (Branding) (Outreach), Sustainable Production (Agriculture, Fisheries, Animal Husbandry), Extention Services (Participatory Research, Advisory), Logistics (Farmers Markets, CSA, Deliveries), Certification and Guarantees (PGS, Organic, Regenrative, Natural), Financing Sustainable Food Systems (Blended Finance, Financing Transformations), Farmer Cooperatives and Companies Management (Producer Companies, Coops, Groups), Food Policy and Advocacy, Education and Research, Food Systems Economics, Networking', 'Expert', 'Expert', 'Organisation', '', 'Sr ysp ', 'Prof and head department of entomology ', 'https://drive.google.com/open?id=10SxSVH4mdq4b1hxa0KiWsEW3UcQDPBk1', 'YES', 'I Agree'], ['13/09/2023 17:15:43', 'thakurchandersingh008@gmail.com', '40 / 50', 'Chander Singh', 'thakurchandersingh008@gmail.com', 'Male', 'India', 'Post Graduate', 'Sustainable Production (Agriculture, Fisheries, Animal Husbandry), Education and Research', 'Proficient', 'Advanced Experience', 'Individual', 'https://drive.google.com/open?id=1eEO3jhaDRcd2psk599rVhkfxRFBM6-AS', '', '', '', 'YES', 'I Agree'], ['13/09/2023 17:23:24', 'kamalchoudharyagri@gmail.com', '40 / 50', 'Kamal choudhary', 'kamalchoudharyagri@gmail.com', 'Male', 'India', 'Under Graduate', 'Sustainable Production (Agriculture, Fisheries, Animal Husbandry)', 'Proficient', 'Intermediate Experience', 'Organisation', '', 'Indian Institute of maize research new Delhi', 'Yong professional', 'https://drive.google.com/open?id=1lKRMKILlRChBWsuuq5PppBt8p31gmhNm', 'YES', 'I Agree'], ['13/09/2023 17:23:46', 'prohitvashishat@gmail.com', '45 / 50', 'Rohit4', 'prohitvashishat@gmail.com', 'Female', 'India', 'PhD', 'Market Linkage (Supply/Value Chains) (Price Discovery), Consumer Engagement (Branding) (Outreach), Sustainable Production (Agriculture, Fisheries, Animal Husbandry), Extention Services (Participatory Research, Advisory), Certification and Guarantees (PGS, Organic, Regenrative, Natural)', 'Expert', 'Advanced Experience', 'Organisation', '', 'gfdru', 'dyunch', 'https://drive.google.com/open?id=1mLqa2yr7kw2gmXF_ttVukZqZT0AB-HE_', 'YES', 'I Agree'], ['13/09/2023 17:29:11', 'manojkashyap913@gmail.com', '40 / 50', 'Manoj nitish ka dost', 'manojnotish@gmail.com', 'Male', 'Argentina', 'Post Graduate', 'Consumer Engagement (Branding) (Outreach)', 'Expert', 'Expert', 'Individual', 'https://drive.google.com/open?id=1VH9CIYj7Alb_qnF8aChn7y7IvOfU8lf9', '', '', '', 'YES', 'I Agree'], ['13/09/2023 18:11:40', 'vikassharmatlk18@gmail.com', '35 / 50', 'Vikas Sharma', 'vikassharmatlk18@gmail.com', 'Male', 'India', 'Post Graduate', 'Adani Agri Fresh Limited.', 'Basic', 'Intermediate Experience', 'Individual', 'https://drive.google.com/open?id=1kVrvTZ7STPwtx0_n0zaFaKMHGrLhF68I', '', '', '', 'YES', 'I Agree'], ['13/09/2023 20:03:13', 'chakrabortymandakranta@gmail.com', '45 / 50', 'Mandakranta Chakraborty ', 'chakrabortymandakranta@gmail.com', 'Female', 'India', 'Post Graduate', 'None', 'Proficient', 'Limited Experience', 'Individual', 'https://drive.google.com/open?id=1msHha-20x07FyfwaE_1c0fibjGlf46hX', '', '', '', 'YES', 'I Agree'], ['13/09/2023 20:17:48', 'jasmeetk0099@gmail.com', '45 / 50', 'Jasmeet Kaur', 'jasmeetk0099@gmail.com', 'Female', 'India', 'Post Graduate', 'Market Linkage (Supply/Value Chains) (Price Discovery), Certification and Guarantees (PGS, Organic, Regenrative, Natural)', 'Proficient', 'Advanced Experience', 'Individual', 'https://drive.google.com/open?id=1Qa77eD5ROG64vuRxOJbAxEDCK0sFZrAt', '', '', '', 'YES', 'I Agree'], ['13/09/2023 20:54:26', 'tanvirakholiya147@gmail.com', '45 / 50', 'Rakholiya Tanvi Dharmendrabhai ', 'tanvirakholiya147@gmail.com', 'Female', 'India', 'Post Graduate', 'None', 'Expert', 'Advanced Experience', 'Individual', 'https://drive.google.com/open?id=1svUmv1BEdLhK3mDmD8ZGfedaVxKHr4U6', '', '', '', 'YES', 'I Agree'], ['13/09/2023 20:56:52', 'banureddy97@gmail.com', '45 / 50', 'C.BANUTEJA ', 'banureddy97@gmail.com', 'Female', 'India', 'Post Graduate', 'Education and Research', 'Proficient', 'Limited Experience', 'Individual', 'https://drive.google.com/open?id=1XGx0MDA6K-WkxdnTNmDsQ44rMZsU0VU_', '', '', '', 'YES', 'I Agree'], ['13/09/2023 23:14:22', 'ausaripraveen@gmail.com', '35 / 50', 'PRAVEEN KUMAR AUSARI', 'ausaripraveen@gmail.com', 'Male', 'India', 'Post Graduate', 'Procurement of wheat', 'Basic', 'Limited Experience', 'Individual', 'https://drive.google.com/open?id=1ZDuDumJ6pCY6bk8iR5pGrSYUEszEuGTT', '', '', '', 'YES', 'I Agree'], ['13/09/2023 23:17:22', 'dupatiashokkumar551@gmail.com', '35 / 50', 'DUPATI ASHOK KUMAR', 'dupatiashokkumar551@gmail.com', 'Male', 'India', 'Post Graduate', 'Sustainable Production (Agriculture, Fisheries, Animal Husbandry)', 'Basic', 'Intermediate Experience', 'Individual', 'https://drive.google.com/open?id=1o36ZH3yzjySrcPMlMXlx_UzXDOtGmGK9', '', '', '', 'YES', 'I Agree'], ['14/09/2023 15:16:05', 'archiedogra97@gmail.com', '45 / 50', 'Archie Dogra', 'archiedogra97@gmail.com', 'Female', 'India', 'PhD', 'Sustainable Production (Agriculture, Fisheries, Animal Husbandry), Education and Research', 'Expert', 'Expert', 'Individual', 'https://drive.google.com/open?id=1I3-h4h8_5Zj1C3RrSXDmHwEowzLuyUrD', '', '', '', 'YES', 'I Agree'], ['14/09/2023 16:41:57', 'jaydeepganvit@gmail.com', '40 / 50', 'Jaydeep Ganvit', 'jaydeepganvit@gmail.com', 'Male', 'India', 'PhD', 'None', 'Proficient', 'Intermediate Experience', 'Individual', 'https://drive.google.com/open?id=1Y4C7dGG80E2xwXfmy0Oea8b3x8DGWxbB', '', '', '', 'YES', 'I Agree'], ['14/09/2023 17:14:26', 'ankitshridhar115@gmail.com', '40 / 50', 'Ankit Kumar Shridhar', 'ankitshridhar115@gmail.com', 'Male', 'India', 'Post Graduate', 'None', 'Proficient', 'Limited Experience', 'Individual', 'https://drive.google.com/open?id=18s8CqObv-IpzfRrQzzOj3DqP9GeDdS3v', '', '', '', 'YES', 'I Agree'], ['14/09/2023 17:40:08', 'sureshbardeag@gmail.com', '35 / 50', 'SURESH BARDE ', 'sureshbarde2020@gmail.com', 'Male', 'India', 'PhD', 'Extention Services (Participatory Research, Advisory)', 'Basic', 'Intermediate Experience', 'Individual', 'https://drive.google.com/open?id=1VTiorPKXWanZq6vnjAS4_PvdPgXjl7rS', '', '', '', 'YES', 'I Agree'], ['14/09/2023 19:42:28', 'deshmukhkd1@gmail.com', '45 / 50', 'Deshmukh Kalyani Diliprao', 'deshmukhkd1@gmail.com', 'Female', 'India', 'PhD', 'Sustainable Production (Agriculture, Fisheries, Animal Husbandry)', 'Proficient', 'Limited Experience', 'Individual', 'https://drive.google.com/open?id=1w3Rnh1gv68FZGwYXM58wYueTd3QrZ5FJ', '', '', '', 'YES', 'I Agree'], ['18/09/2023 23:59:55', 'upmanyubhuvnesh@gmail.com', '40 / 50', 'BHUVNESH UPMANYU ', 'bhuvneshupmanyu@gmail.com', 'Male', 'India', 'Under Graduate', 'Sustainable Production (Agriculture, Fisheries, Animal Husbandry), Extention Services (Participatory Research, Advisory), Logistics (Farmers Markets, CSA, Deliveries)', 'Expert', 'Advanced Experience', 'Individual', 'https://drive.google.com/open?id=1XfzEu9D2AT6pAU-GYIRVJK9h6YICN2OY', '', '', '', 'YES', 'I Agree'], ['19/09/2023 21:59:24', 'umesh18patle@gmail.com', '35 / 50', 'Umesh Patle ', 'umesh18patle@gmail.com', 'Male', 'India', 'Post Graduate', 'Sustainable Production (Agriculture, Fisheries, Animal Husbandry), Education and Research', 'Basic', 'Expert', 'Individual', 'https://drive.google.com/open?id=1pNYVC2Nk2yi-TIEJnQtNkLfCA-WqnNRH', '', '', '', 'YES', 'I Agree'], ['19/09/2023 22:01:55', 'umesh18patle@gmail.com', '35 / 50', 'Umesh Patle ', 'umesh18patle@gmail.com', 'Male', 'India', 'Post Graduate', 'Sustainable Production (Agriculture, Fisheries, Animal Husbandry), Education and Research', 'Basic', 'Expert', 'Individual', 'https://drive.google.com/open?id=1jTNNJziw2kdUSD3KFW-Y2KOi4g493YtX', '', '', '', 'YES', 'I Agree'], ['13/09/2023 13:50:31', 'entoanshu@gmail.com', '29 / 50', 'Anshuman semwal', 'anshumanentomology@gmail.com', 'Male', 'India', 'PhD', 'Market Linkage (Supply/Value Chains) (Price Discovery)', 'Proficient', 'Advanced Experience', 'Individual', 'https://drive.google.com/open?id=1V93FHZBkVPL66bpOfT9E3bL2M30Wixmt', '', '', '', 'YES', 'Disagree'], ['13/09/2023 13:56:57', 'anshmnsemwl1995@gmail.com', '42 / 50', 'Anshmali', 'anshmnsemwl1995@gmail.com', 'Female', 'United States of America', 'Under Graduate', 'Market Linkage (Supply/Value Chains) (Price Discovery), Consumer Engagement (Branding) (Outreach)', 'Expert', 'Expert', 'Organisation', '', 'Dr ysp', 'Dean college of forest ', 'https://drive.google.com/open?id=13wLLGBp08k20t9RI0klP4o64QThZVm3J', 'YES', 'I Agree'], ['13/09/2023 16:59:31', 'shreedharbeese@gmail.com', '41 / 50', 'Shreedhar Beese', 'shridhar.rb38@gmail.com', 'Male', 'India', 'PhD', 'Sustainable Production (Agriculture, Fisheries, Animal Husbandry)', 'Proficient', 'Intermediate Experience', 'Individual', 'https://drive.google.com/open?id=1WttIxPX95wHuWMqS4i3R3o9oWugxKvwO', '', '', '', 'YES', 'I Agree'], ['13/09/2023 17:00:31', 'pranabeshnandi10@gmail.com', '40 / 50', 'Pranabesh Nandi ', 'pranabeshnandi10@gmail.com', 'Male', 'India', 'Post Graduate', 'Market Linkage (Supply/Value Chains) (Price Discovery)', 'Proficient', 'Limited Experience', 'Individual', 'https://drive.google.com/open?id=1aUwcu8MEwPEzY_fEbVsvrfu7idjxKdOR', '', '', '', 'YES', 'I Agree'], ['13/09/2023 17:03:11', 'bharathibabuagri@gmail.com', '45 / 50', 'Bharathi B ', 'bharathibabuagri@gmail.com', 'Female', 'India', 'Post Graduate', 'Sustainable Production (Agriculture, Fisheries, Animal Husbandry)', 'Proficient', 'Limited Experience', 'Organisation', '', 'Aggrow Farmer Development Organisation ', 'Digital agri extension officer ', 'https://drive.google.com/open?id=1Wbnj8zUW8XJ-GrikhuCqtr2y2_FWX3Tv', 'YES', 'I Agree'], ['13/09/2023 17:04:43', 'sonalinegi000007@gmail.com', '35 / 50', 'Sonal negi', 'sonalnegi@gmail.com', 'Female', 'Liberia', 'Post Graduate', 'Market Linkage (Supply/Value Chains) (Price Discovery), Financing Sustainable Food Systems (Blended Finance, Financing Transformations)', 'Expert', 'Limited Experience', 'Individual', 'https://drive.google.com/open?id=14Y_N0biWTOK3PrUpWP6a_GuEyz_XOJs7', '', '', '', 'YES', 'Disagree'], ['13/09/2023 17:08:12', 'anshumansemwal123@gmail.com', '37 / 50', 'Gadar2', 'deol@gmil.com', 'Female', 'Pakistan', 'Post Graduate', 'Market Linkage (Supply/Value Chains) (Price Discovery), Food Policy and Advocacy, Education and Research, Food Systems Economics, Networking', 'Basic', 'Intermediate Experience', 'Individual', 'https://drive.google.com/open?id=1qsF1MQtieV6twZeb1DiOQ9YE_XI1IZEI', '', '', '', 'YES', 'I Agree'], ['13/09/2023 17:15:37', 'anshumanentomology@gmail.com', '38 / 50', 'Anshuman ', 'anshumanentomology@gmail.com', 'Male', 'Vanuatu', 'PhD', 'Market Linkage (Supply/Value Chains) (Price Discovery), Consumer Engagement (Branding) (Outreach), Sustainable Production (Agriculture, Fisheries, Animal Husbandry), Extention Services (Participatory Research, Advisory), Logistics (Farmers Markets, CSA, Deliveries), Certification and Guarantees (PGS, Organic, Regenrative, Natural), Financing Sustainable Food Systems (Blended Finance, Financing Transformations), Farmer Cooperatives and Companies Management (Producer Companies, Coops, Groups), Food Policy and Advocacy, Education and Research, Food Systems Economics, Networking', 'Expert', 'Expert', 'Organisation', '', 'Sr ysp ', 'Prof and head department of entomology ', 'https://drive.google.com/open?id=10SxSVH4mdq4b1hxa0KiWsEW3UcQDPBk1', 'YES', 'I Agree'], ['13/09/2023 17:15:43', 'thakurchandersingh008@gmail.com', '39 / 50', 'Chander Singh', 'thakurchandersingh008@gmail.com', 'Male', 'India', 'Post Graduate', 'Sustainable Production (Agriculture, Fisheries, Animal Husbandry), Education and Research', 'Proficient', 'Advanced Experience', 'Individual', 'https://drive.google.com/open?id=1eEO3jhaDRcd2psk599rVhkfxRFBM6-AS', '', '', '', 'YES', 'I Agree'], ['13/09/2023 17:23:24', 'kamalchoudharyagri@gmail.com', '40 / 50', 'Kamal choudhary', 'kamalchoudharyagri@gmail.com', 'Male', 'India', 'Under Graduate', 'Sustainable Production (Agriculture, Fisheries, Animal Husbandry)', 'Proficient', 'Intermediate Experience', 'Organisation', '', 'Indian Institute of maize research new Delhi', 'Yong professional', 'https://drive.google.com/open?id=1lKRMKILlRChBWsuuq5PppBt8p31gmhNm', 'YES', 'I Agree'], ['13/09/2023 17:23:46', 'prohitvashishat@gmail.com', '41 / 50', 'Rohit4', 'prohitvashishat@gmail.com', 'Female', 'India', 'PhD', 'Market Linkage (Supply/Value Chains) (Price Discovery), Consumer Engagement (Branding) (Outreach), Sustainable Production (Agriculture, Fisheries, Animal Husbandry), Extention Services (Participatory Research, Advisory), Certification and Guarantees (PGS, Organic, Regenrative, Natural)', 'Expert', 'Advanced Experience', 'Organisation', '', 'gfdru', 'dyunch', 'https://drive.google.com/open?id=1mLqa2yr7kw2gmXF_ttVukZqZT0AB-HE_', 'YES', 'I Agree'], ['13/09/2023 17:29:11', 'manojkashyap913@gmail.com', '42 / 50', 'Manoj nitish ka dost', 'manojnotish@gmail.com', 'Male', 'Argentina', 'Post Graduate', 'Consumer Engagement (Branding) (Outreach)', 'Expert', 'Expert', 'Individual', 'https://drive.google.com/open?id=1VH9CIYj7Alb_qnF8aChn7y7IvOfU8lf9', '', '', '', 'YES', 'I Agree'], ['13/09/2023 18:11:40', 'vikassharmatlk18@gmail.com', '43 / 50', 'Vikas Sharma', 'vikassharmatlk18@gmail.com', 'Male', 'India', 'Post Graduate', 'Adani Agri Fresh Limited.', 'Basic', 'Intermediate Experience', 'Individual', 'https://drive.google.com/open?id=1kVrvTZ7STPwtx0_n0zaFaKMHGrLhF68I', '', '', '', 'YES', 'I Agree'], ['13/09/2023 20:03:13', 'chakrabortymandakranta@gmail.com', '44 / 50', 'Mandakranta Chakraborty ', 'chakrabortymandakranta@gmail.com', 'Female', 'India', 'Post Graduate', 'None', 'Proficient', 'Limited Experience', 'Individual', 'https://drive.google.com/open?id=1msHha-20x07FyfwaE_1c0fibjGlf46hX', '', '', '', 'YES', 'I Agree'], ['13/09/2023 20:17:48', 'jasmeetk0099@gmail.com', '45 / 50', 'Jasmeet Kaur', 'jasmeetk0099@gmail.com', 'Female', 'India', 'Post Graduate', 'Market Linkage (Supply/Value Chains) (Price Discovery), Certification and Guarantees (PGS, Organic, Regenrative, Natural)', 'Proficient', 'Advanced Experience', 'Individual', 'https://drive.google.com/open?id=1Qa77eD5ROG64vuRxOJbAxEDCK0sFZrAt', '', '', '', 'YES', 'I Agree'], ['13/09/2023 20:54:26', 'tanvirakholiya147@gmail.com', '46 / 50', 'Rakholiya Tanvi Dharmendrabhai ', 'tanvirakholiya147@gmail.com', 'Female', 'India', 'Post Graduate', 'None', 'Expert', 'Advanced Experience', 'Individual', 'https://drive.google.com/open?id=1svUmv1BEdLhK3mDmD8ZGfedaVxKHr4U6', '', '', '', 'YES', 'I Agree'], ['13/09/2023 20:56:52', 'banureddy97@gmail.com', '47 / 50', 'C.BANUTEJA ', 'banureddy97@gmail.com', 'Female', 'India', 'Post Graduate', 'Education and Research', 'Proficient', 'Limited Experience', 'Individual', 'https://drive.google.com/open?id=1XGx0MDA6K-WkxdnTNmDsQ44rMZsU0VU_', '', '', '', 'YES', 'I Agree'], ['13/09/2023 23:14:22', 'ausaripraveen@gmail.com', '48 / 50', 'PRAVEEN KUMAR AUSARI', 'ausaripraveen@gmail.com', 'Male', 'India', 'Post Graduate', 'Procurement of wheat', 'Basic', 'Limited Experience', 'Individual', 'https://drive.google.com/open?id=1ZDuDumJ6pCY6bk8iR5pGrSYUEszEuGTT', '', '', '', 'YES', 'I Agree'], ['13/09/2023 23:17:22', 'dupatiashokkumar551@gmail.com', '49 / 50', 'DUPATI ASHOK KUMAR', 'dupatiashokkumar551@gmail.com', 'Male', 'India', 'Post Graduate', 'Sustainable Production (Agriculture, Fisheries, Animal Husbandry)', 'Basic', 'Intermediate Experience', 'Individual', 'https://drive.google.com/open?id=1o36ZH3yzjySrcPMlMXlx_UzXDOtGmGK9', '', '', '', 'YES', 'I Agree'], ['14/09/2023 15:16:05', 'archiedogra97@gmail.com', '50 / 50', 'Archie Dogra', 'archiedogra97@gmail.com', 'Female', 'India', 'PhD', 'Sustainable Production (Agriculture, Fisheries, Animal Husbandry), Education and Research', 'Expert', 'Expert', 'Individual', 'https://drive.google.com/open?id=1I3-h4h8_5Zj1C3RrSXDmHwEowzLuyUrD', '', '', '', 'YES', 'I Agree'], ['14/09/2023 16:41:57', 'jaydeepganvit@gmail.com', '51 / 50', 'Jaydeep Ganvit', 'jaydeepganvit@gmail.com', 'Male', 'India', 'PhD', 'None', 'Proficient', 'Intermediate Experience', 'Individual', 'https://drive.google.com/open?id=1Y4C7dGG80E2xwXfmy0Oea8b3x8DGWxbB', '', '', '', 'YES', 'I Agree'], ['14/09/2023 17:14:26', 'ankitshridhar115@gmail.com', '52 / 50', 'Ankit Kumar Shridhar', 'ankitshridhar115@gmail.com', 'Male', 'India', 'Post Graduate', 'None', 'Proficient', 'Limited Experience', 'Individual', 'https://drive.google.com/open?id=18s8CqObv-IpzfRrQzzOj3DqP9GeDdS3v', '', '', '', 'YES', 'I Agree'], ['14/09/2023 17:40:08', 'sureshbardeag@gmail.com', '53 / 50', 'SURESH BARDE ', 'sureshbarde2020@gmail.com', 'Male', 'India', 'PhD', 'Extention Services (Participatory Research, Advisory)', 'Basic', 'Intermediate Experience', 'Individual', 'https://drive.google.com/open?id=1VTiorPKXWanZq6vnjAS4_PvdPgXjl7rS', '', '', '', 'YES', 'I Agree'], ['14/09/2023 19:42:28', 'deshmukhkd1@gmail.com', '54 / 50', 'Deshmukh Kalyani Diliprao', 'deshmukhkd1@gmail.com', 'Female', 'India', 'PhD', 'Sustainable Production (Agriculture, Fisheries, Animal Husbandry)', 'Proficient', 'Limited Experience', 'Individual', 'https://drive.google.com/open?id=1w3Rnh1gv68FZGwYXM58wYueTd3QrZ5FJ', '', '', '', 'YES', 'I Agree']]\n"
          ]
        }
      ]
    },
    {
      "cell_type": "markdown",
      "source": [
        " Part 3 - Run the Ranking algorithm on the basis of the configuration variables feteched in Part 1 and copy the shortlisted entries to Sorted Spreadsheet.\n"
      ],
      "metadata": {
        "id": "3hFI_aVwqYKp"
      }
    },
    {
      "cell_type": "code",
      "source": [
        "\n",
        "AllRows = AllParticipantsWorksheet.get_all_values()\n",
        "\n",
        "#Ensure that the column header is maintained from the actual sheet and Not Panda else it will result in an error during Sorting by Timestamp!!\n",
        "SelectionDFrame = pd.DataFrame(AllRows[1:], columns=AllRows[0])\n",
        "#print (SelectionDFrame)\n",
        "#Remove Delimiter only if Column type is string\n",
        "if SelectionDFrame['Score'].dtype == 'object':\n",
        "  if SelectionDFrame['Score'].str.contains('/').any():\n",
        "   SelectionDFrame['Score'] = SelectionDFrame['Score'].str.split('/').str[0]\n",
        "\n",
        "#Convert Score to Number if not one already\n",
        "if SelectionDFrame['Score'].dtype != 'int64':\n",
        "  SelectionDFrame['Score'] = SelectionDFrame['Score'].astype(int)\n",
        "\n",
        "\n",
        "#print (SelectionDFrame)\n"
      ],
      "metadata": {
        "id": "PexU4igRqb7m"
      },
      "execution_count": 4,
      "outputs": []
    },
    {
      "cell_type": "markdown",
      "source": [
        "First Sort by Ranking Score this is as per variable CutOffScore - acquired earlier from the Variable Sheet"
      ],
      "metadata": {
        "id": "MjEaalXl4_IS"
      }
    },
    {
      "cell_type": "code",
      "source": [
        "SelectionDFrame['Rank'] = SelectionDFrame['Score'].rank(ascending=False,method='max')\n",
        "\n",
        "#print (SelectionDFrame['Score'], SelectionDFrame['Rank'])\n",
        "#Remove Ranks below CutOffScore\n",
        "#Select the ones which are above CutOffScore - remove the rest\n",
        "print (\"CutOff Score Is \", CutOffScore)\n",
        "SelectionDFrame = SelectionDFrame[SelectionDFrame['Score'] >= CutOffScore]\n",
        "#print (SelectionDFrame)\n",
        "\n"
      ],
      "metadata": {
        "id": "TKxX8BRX5Bdp"
      },
      "execution_count": null,
      "outputs": []
    },
    {
      "cell_type": "code",
      "source": [
        "SelectionDFrame = SelectionDFrame.sort_values(by='Rank')\n",
        "#print (SelectionDFrame)\n"
      ],
      "metadata": {
        "id": "BYNo_zF--eYU"
      },
      "execution_count": 6,
      "outputs": []
    },
    {
      "cell_type": "code",
      "source": [
        "#TopScorers = SelectionDFrame.head(CutOffScore)\n",
        "#print (SelectionDFrame['Score'])\n",
        "\n",
        "#Shortlist by Number of Participants to be selected FinalParticipants\n",
        "SelectionDFrame = SelectionDFrame.head(FinalParticipants)\n",
        "#print (SelectionDFrame)"
      ],
      "metadata": {
        "id": "bQoUVwnq-rqh"
      },
      "execution_count": 7,
      "outputs": []
    },
    {
      "cell_type": "markdown",
      "source": [
        "Sort by Timestamp - in case multiple participants make a ranking shortlist - then select those on - First Come First Serve basis\n"
      ],
      "metadata": {
        "id": "ZakUX4VX40aq"
      }
    },
    {
      "cell_type": "code",
      "source": [
        "SelectionDFrame = SelectionDFrame.sort_values(by='Timestamp')\n",
        "\n",
        "print (\"Final Rows - \",SelectionDFrame.shape[0])\n",
        "\n",
        "print (\"Final Cols - \",SelectionDFrame.shape[1])\n",
        "\n",
        "print (SelectionDFrame)\n",
        "\n"
      ],
      "metadata": {
        "id": "ihSQNyGm47lD"
      },
      "execution_count": null,
      "outputs": []
    },
    {
      "cell_type": "markdown",
      "source": [
        "Create a New Worksheet where the shortlisted results shall appear. If it is already created open it else create a new one."
      ],
      "metadata": {
        "id": "JZvi--QlysmS"
      }
    },
    {
      "cell_type": "code",
      "source": [
        "try:\n",
        "  FinalParticipantWorksheet = SpreadSheetFile.worksheet('FinalParticipants')\n",
        "  FinalParticipantWorksheet.clear()\n",
        "  print (\"FinalParticipants Worksheet Exists - Opening It\")\n",
        "except:\n",
        "  FinalParticipantWorksheet = SpreadSheetFile.add_worksheet(title=\"FinalParticipants\",rows=SelectionDFrame.shape[0],cols=SelectionDFrame.shape[1])\n",
        "  print (\"FinalParticipants Worksheet Does not Exist - Creating It\")\n",
        "  print (\"Write Final Data Frame to File\")\n",
        "\n"
      ],
      "metadata": {
        "id": "UDEOMdsjx-EX"
      },
      "execution_count": null,
      "outputs": []
    },
    {
      "cell_type": "markdown",
      "source": [
        "Finally Write the Shortlisted Entries to the new Worksheet and close the selection process"
      ],
      "metadata": {
        "id": "IpYeB5DVoj7w"
      }
    },
    {
      "cell_type": "code",
      "source": [
        "  #Get Headers\n",
        "  ResultHeaders = SelectionDFrame.columns.to_list()\n",
        "  #print (ResultHeaders)\n",
        "\n",
        "  #Get All Entries\n",
        "  ShortListedEntries = SelectionDFrame.to_numpy().tolist()\n",
        "  #print (ShortListedEntries)\n",
        "\n",
        "  #Combine Headers and ShortListedEntries\n",
        "\n",
        "  ShortListedEntries = [ResultHeaders] + ShortListedEntries\n",
        "\n",
        "  #print (ShortListedEntries)\n",
        "  #Write Final DataFrame to Worksheet\n",
        "  FinalParticipantWorksheet.update(None,ShortListedEntries)\n",
        "\n",
        "  #print (\"All Done Ending Session and Closing File\" )\n",
        "  FinalParticipantWorksheet.spreadsheet.client.session.close()\n",
        "  gc.session.close()\n",
        "  #print (\"Session Closed\")\n"
      ],
      "metadata": {
        "colab": {
          "base_uri": "https://localhost:8080/"
        },
        "id": "_gRBP97Umk3P",
        "outputId": "959c54a8-e9db-4c96-d034-d9d73d152bed"
      },
      "execution_count": 21,
      "outputs": [
        {
          "output_type": "stream",
          "name": "stdout",
          "text": [
            "All Done Ending Session and Closing File\n",
            "Session Closed\n"
          ]
        }
      ]
    }
  ]
}