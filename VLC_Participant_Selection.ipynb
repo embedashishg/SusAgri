{
  "nbformat": 4,
  "nbformat_minor": 0,
  "metadata": {
    "colab": {
      "provenance": [],
      "include_colab_link": true
    },
    "kernelspec": {
      "name": "python3",
      "display_name": "Python 3"
    },
    "language_info": {
      "name": "python"
    }
  },
  "cells": [
    {
      "cell_type": "markdown",
      "metadata": {
        "id": "view-in-github",
        "colab_type": "text"
      },
      "source": [
        "<a href=\"https://colab.research.google.com/github/embedashishg/SusAgri/blob/SusAgri/VLC_Participant_Selection.ipynb\" target=\"_parent\"><img src=\"https://colab.research.google.com/assets/colab-badge.svg\" alt=\"Open In Colab\"/></a>"
      ]
    },
    {
      "cell_type": "markdown",
      "source": [
        "This code is to test the implementation of the Rank Sort Algorithm for the VLC\n",
        "\n",
        "Code has 3 parts -\n",
        "  \n",
        "  Part 1 - Open the Short listing sheet and read all the configuration variables. These variables are\n",
        "  1. The Key of the Google sheet which holds the Registered Entry from the Google Form\n",
        "  2. The total number of participants to be shortlisted\n",
        "  3. Cut Off Ranking above which the participant shall be shortlisted\n",
        "\n",
        "  Part 2 - Open the SourceWorkSheet - the key for which is sourced from the variable in part1.\n",
        "  Then move all the entries from the SourceWorkSheet to a Worksheet in the Shortlist Sheet\n",
        "\n",
        "  Part 3 - Run the Ranking algorithm on the basis of the configuration variables feteched in Part 1 and copy the shortlisted entries to Sorted Spreadsheet.   \n",
        "\n"
      ],
      "metadata": {
        "id": "oPez6T_8nhey"
      }
    },
    {
      "cell_type": "code",
      "source": [
        "from google.colab import auth\n",
        "auth.authenticate_user()\n",
        "from google.auth import default\n",
        "creds, _ = default()\n",
        "\n",
        "import gspread\n",
        "from gspread.exceptions import WorksheetNotFound\n",
        "from datetime import datetime\n",
        "\n",
        "import pandas as pd\n",
        "from pandas.core.indexers.utils import Any\n",
        "\n",
        "gc = gspread.authorize(creds)\n",
        "\n",
        "'''\n",
        "This code is to test the implementation of the Rank Sort Algorithm for the VLC\n",
        "\n",
        "Code has 3 parts -\n",
        "  Part 1 - Open the Short listing sheet and read all the configuration variables. These variables are\n",
        "  1. The Key of the Google sheet which holds the Registered Entry from the Google Form\n",
        "  2. The total number of participants to be shortlisted\n",
        "  3. Cut Off Ranking above which the participant shall be shortlisted\n",
        "\n",
        "  Part 2 - Open the SourceWorkSheet - the key for which is sourced from the variable in part1.\n",
        "          Then move all the entries from the SourceWorkSheet to a Worksheet in the Shortlist Sheet\n",
        "\n",
        "  Part 3 - Run the Ranking algorithm on the basis of the configuration variables feteched in Part 1 and copy the shortlisted entries to Sorted Spreadsheet.\n",
        "'''\n",
        "\n",
        "''' Part 1 '''\n",
        "#ShortListSheet - Replace this Key if the Shortlist Sheet changes\n",
        "SpreadSheetFile = gc.open_by_key('1W7vVCSoiVXyw2oWrgsp2YeADrDd-WM0wR7EBDnxGxow')\n",
        "ShortListVariableSheet = SpreadSheetFile.worksheet(\"Configurations\")\n",
        "\n",
        "#rows = ShortListVariableSheet.get_all_values()\n",
        "#print (rows)\n",
        "\n",
        "#Get the Variables to Run the Rank Sort\n",
        "\n",
        "#Variable FormSheet Key to get the All the Participants\n",
        "MatchCell = ShortListVariableSheet.find('Form Sheet Access Key')\n",
        "#print (MatchCell)\n",
        "#print (MatchCell.col, MatchCell.row)\n",
        "AdjacentCell = ShortListVariableSheet.cell(MatchCell.row, MatchCell.col + 1)\n",
        "FormSheetKey = AdjacentCell.value\n",
        "print (FormSheetKey)\n",
        "\n",
        "#Variable Cut-Off Score above which the Rank sort shall run  - Those below this cut-off shall be excluded\n",
        "MatchCell = ShortListVariableSheet.find('Cut-Off Score')\n",
        "#print (MatchCell)\n",
        "#print (MatchCell.col, MatchCell.row)\n",
        "AdjacentCell = ShortListVariableSheet.cell(MatchCell.row, MatchCell.col + 1)\n",
        "CutOffScore =  int(AdjacentCell.value)\n",
        "print (\"Cut Off Score\", CutOffScore)\n",
        "#print (type(CutOffScore))\n",
        "\n",
        "#Variable Number of Participants to Select\n",
        "MatchCell = ShortListVariableSheet.find('Final Participants')\n",
        "#print (MatchCell)\n",
        "#print (MatchCell.col, MatchCell.row)\n",
        "AdjacentCell = ShortListVariableSheet.cell(MatchCell.row, MatchCell.col + 1)\n",
        "FinalParticipants = int(AdjacentCell.value)\n",
        "print (\"Total Participants to Select\", FinalParticipants)\n",
        "#NumberOfParticipantsToShortlist = ShortListVariableSheet.get()\n"
      ],
      "metadata": {
        "id": "ZpBOXbiJj4r3"
      },
      "execution_count": null,
      "outputs": []
    },
    {
      "cell_type": "markdown",
      "source": [
        "Part 2 - Open the SourceWorkSheet - the key for which is sourced from the variable in part1.\n",
        "          Then move all the entries from the SourceWorkSheet to a Worksheet in the Shortlist Sheet"
      ],
      "metadata": {
        "id": "BIRiulMoqL-j"
      }
    },
    {
      "cell_type": "code",
      "source": [
        "\n",
        "#Ensure Key is changed in case the Form and Google Sheet changes\n",
        "SourceWorksheet = gc.open_by_key(FormSheetKey).sheet1\n",
        "\n",
        "# get_all_values gives a list of rows.\n",
        "AllEntries = SourceWorksheet.get_all_values()\n",
        "\n",
        "\n",
        "#Write to the New Sheet in the current Sheet named 'AllParticipants'\n",
        "\n",
        "try:\n",
        "  AllParticipantsWorksheet = SpreadSheetFile.worksheet('AllParticipants')\n",
        "  AllParticipantsWorksheet.clear()\n",
        "  print (\"AllParticipants Worksheet Exists - Opening It\")\n",
        "except:\n",
        "  AllParticipantsWorksheet = SpreadSheetFile.add_worksheet(title=\"AllParticipants\",rows=SourceWorksheet.row_count,cols=SourceWorksheet.col_count)\n",
        "  print (\"AllParticipants Worksheet Does not Exist - Creating It\")\n",
        "\n",
        "\n",
        "AllParticipantsWorksheet.update(\"A1\", AllEntries)\n",
        "print (AllParticipantsWorksheet.get_all_values())\n",
        "# Convert to a DataFrame and render.\n",
        "\n",
        "#AllParticipantsWorksheet.sort((1, 'asc'))\n"
      ],
      "metadata": {
        "id": "E3iHzKNCqQqz"
      },
      "execution_count": null,
      "outputs": []
    },
    {
      "cell_type": "markdown",
      "source": [
        " Part 3 - Run the Ranking algorithm on the basis of the configuration variables feteched in Part 1 and copy the shortlisted entries to Sorted Spreadsheet.\n"
      ],
      "metadata": {
        "id": "3hFI_aVwqYKp"
      }
    },
    {
      "cell_type": "code",
      "source": [
        "\n",
        "AllRows = AllParticipantsWorksheet.get_all_values()\n",
        "\n",
        "#Ensure that the column header is maintained from the actual sheet and Not Panda else it will result in an error during Sorting by Timestamp!!\n",
        "SelectionDFrame = pd.DataFrame(AllRows[1:], columns=AllRows[0])\n",
        "#print (SelectionDFrame)\n",
        "#Remove Delimiter only if Column type is string\n",
        "if SelectionDFrame['Score'].dtype == 'object':\n",
        "  if SelectionDFrame['Score'].str.contains('/').any():\n",
        "   SelectionDFrame['Score'] = SelectionDFrame['Score'].str.split('/').str[0]\n",
        "\n",
        "#Convert Score to Number if not one already\n",
        "if SelectionDFrame['Score'].dtype != 'int64':\n",
        "  SelectionDFrame['Score'] = SelectionDFrame['Score'].astype(int)\n",
        "\n",
        "\n",
        "#print (SelectionDFrame)\n"
      ],
      "metadata": {
        "id": "PexU4igRqb7m"
      },
      "execution_count": 4,
      "outputs": []
    },
    {
      "cell_type": "markdown",
      "source": [
        "First Sort by Ranking Score this is as per variable CutOffScore - acquired earlier from the Variable Sheet"
      ],
      "metadata": {
        "id": "MjEaalXl4_IS"
      }
    },
    {
      "cell_type": "code",
      "source": [
        "SelectionDFrame['Rank'] = SelectionDFrame['Score'].rank(ascending=False,method='max')\n",
        "\n",
        "#print (SelectionDFrame['Score'], SelectionDFrame['Rank'])\n",
        "#Remove Ranks below CutOffScore\n",
        "#Select the ones which are above CutOffScore - remove the rest\n",
        "print (\"CutOff Score Is \", CutOffScore)\n",
        "SelectionDFrame = SelectionDFrame[SelectionDFrame['Score'] >= CutOffScore]\n",
        "#print (SelectionDFrame)\n",
        "\n"
      ],
      "metadata": {
        "id": "TKxX8BRX5Bdp"
      },
      "execution_count": null,
      "outputs": []
    },
    {
      "cell_type": "code",
      "source": [
        "SelectionDFrame = SelectionDFrame.sort_values(by='Rank')\n",
        "#print (SelectionDFrame)\n"
      ],
      "metadata": {
        "id": "BYNo_zF--eYU"
      },
      "execution_count": 6,
      "outputs": []
    },
    {
      "cell_type": "code",
      "source": [
        "#TopScorers = SelectionDFrame.head(CutOffScore)\n",
        "#print (SelectionDFrame['Score'])\n",
        "\n",
        "#Shortlist by Number of Participants to be selected FinalParticipants\n",
        "SelectionDFrame = SelectionDFrame.head(FinalParticipants)\n",
        "#print (SelectionDFrame)"
      ],
      "metadata": {
        "id": "bQoUVwnq-rqh"
      },
      "execution_count": 7,
      "outputs": []
    },
    {
      "cell_type": "markdown",
      "source": [
        "Sort by Timestamp - in case multiple participants make a ranking shortlist - then select those on - First Come First Serve basis\n"
      ],
      "metadata": {
        "id": "ZakUX4VX40aq"
      }
    },
    {
      "cell_type": "code",
      "source": [
        "SelectionDFrame = SelectionDFrame.sort_values(by='Timestamp')\n",
        "\n",
        "print (\"Final Rows - \",SelectionDFrame.shape[0])\n",
        "\n",
        "print (\"Final Cols - \",SelectionDFrame.shape[1])\n",
        "\n",
        "print (SelectionDFrame)\n",
        "\n"
      ],
      "metadata": {
        "id": "ihSQNyGm47lD"
      },
      "execution_count": null,
      "outputs": []
    },
    {
      "cell_type": "markdown",
      "source": [
        "Create a New Worksheet where the shortlisted results shall appear. If it is already created open it else create a new one."
      ],
      "metadata": {
        "id": "JZvi--QlysmS"
      }
    },
    {
      "cell_type": "code",
      "source": [
        "try:\n",
        "  FinalParticipantWorksheet = SpreadSheetFile.worksheet('FinalParticipants')\n",
        "  FinalParticipantWorksheet.clear()\n",
        "  print (\"FinalParticipants Worksheet Exists - Opening It\")\n",
        "except:\n",
        "  FinalParticipantWorksheet = SpreadSheetFile.add_worksheet(title=\"FinalParticipants\",rows=SelectionDFrame.shape[0],cols=SelectionDFrame.shape[1])\n",
        "  print (\"FinalParticipants Worksheet Does not Exist - Creating It\")\n",
        "  print (\"Write Final Data Frame to File\")\n",
        "\n"
      ],
      "metadata": {
        "id": "UDEOMdsjx-EX"
      },
      "execution_count": null,
      "outputs": []
    },
    {
      "cell_type": "markdown",
      "source": [
        "Finally Write the Shortlisted Entries to the new Worksheet and close the selection process"
      ],
      "metadata": {
        "id": "IpYeB5DVoj7w"
      }
    },
    {
      "cell_type": "code",
      "source": [
        "  #Get Headers\n",
        "  ResultHeaders = SelectionDFrame.columns.to_list()\n",
        "  #print (ResultHeaders)\n",
        "\n",
        "  #Get All Entries\n",
        "  ShortListedEntries = SelectionDFrame.to_numpy().tolist()\n",
        "  #print (ShortListedEntries)\n",
        "\n",
        "  #Combine Headers and ShortListedEntries\n",
        "\n",
        "  ShortListedEntries = [ResultHeaders] + ShortListedEntries\n",
        "\n",
        "  #print (ShortListedEntries)\n",
        "  #Write Final DataFrame to Worksheet\n",
        "  FinalParticipantWorksheet.update(None,ShortListedEntries)\n",
        "\n",
        "  #print (\"All Done Ending Session and Closing File\" )\n",
        "  FinalParticipantWorksheet.spreadsheet.client.session.close()\n",
        "  gc.session.close()\n",
        "  #print (\"Session Closed\")\n"
      ],
      "metadata": {
        "id": "_gRBP97Umk3P"
      },
      "execution_count": null,
      "outputs": []
    }
  ]
}