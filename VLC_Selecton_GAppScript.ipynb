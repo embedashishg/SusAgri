{
  "nbformat": 4,
  "nbformat_minor": 0,
  "metadata": {
    "colab": {
      "provenance": [],
      "authorship_tag": "ABX9TyOB4FHbAUhU6mrDdUYzseuX",
      "include_colab_link": true
    },
    "kernelspec": {
      "name": "python3",
      "display_name": "Python 3"
    },
    "language_info": {
      "name": "python"
    }
  },
  "cells": [
    {
      "cell_type": "markdown",
      "metadata": {
        "id": "view-in-github",
        "colab_type": "text"
      },
      "source": [
        "<a href=\"https://colab.research.google.com/github/embedashishg/SusAgri/blob/SusAgri/VLC_Selecton_GAppScript.ipynb\" target=\"_parent\"><img src=\"https://colab.research.google.com/assets/colab-badge.svg\" alt=\"Open In Colab\"/></a>"
      ]
    },
    {
      "cell_type": "markdown",
      "source": [
        "# The text below is to be copied to a AppScript linked to Google Sheets.\n"
      ],
      "metadata": {
        "id": "hz6ipdf1xrh7"
      }
    },
    {
      "cell_type": "code",
      "source": [
        "\n",
        "function updateApplicantsSheet() {\n",
        "  try {\n",
        "\n",
        "    var destinationSpreadsheet = SpreadsheetApp.getActiveSpreadsheet();\n",
        "    var configSheet = destinationSpreadsheet.getSheetByName(\"Configurations\");\n",
        "    var c8Value = configSheet.getRange(\"C8\").getValue().toString().toLowerCase();\n",
        "    if (c8Value === \"yes\") {\n",
        "      var sourceSheetId = configSheet.getRange(\"C5\").getValue();\n",
        "      var sourceSpreadsheet = SpreadsheetApp.openById(sourceSheetId);\n",
        "\n",
        "      // Get the name of the first sheet in the source spreadsheet\n",
        "      var sourceSheetFirst = sourceSpreadsheet.getSheets()[0];\n",
        "      var sourceSheet = sourceSheetFirst;\n",
        "\n",
        "      var data = sourceSheet.getDataRange().getValues();\n",
        "      data.sort(function (a, b) {\n",
        "        if (b[2] === a[2]) {\n",
        "          return a[0] - b[0];\n",
        "        }\n",
        "        return b[2] - a[2];\n",
        "      });\n",
        "\n",
        "      var applicantsSheet = destinationSpreadsheet.getSheetByName(\"Applicants\");\n",
        "      applicantsSheet.clear();\n",
        "      var finalParticipantsSheet = destinationSpreadsheet.getSheetByName(\"FinalParticipants\");\n",
        "      finalParticipantsSheet.clear();\n",
        "\n",
        "      // Determine the Cut-Off Score from cell C6 in 'Configurations' sheet\n",
        "      var cutOffScore = configSheet.getRange(\"C6\").getValue();\n",
        "\n",
        "      // Determine the number of participants to select from cell C7 in 'Configurations' sheet\n",
        "      var numberOfParticipants = configSheet.getRange(\"C7\").getValue();\n",
        "\n",
        "      // Select the top participants based on the configured count and score\n",
        "      var finalParticipantsData = data.filter(function (applicant) {\n",
        "        return applicant[2] >= cutOffScore;\n",
        "      }).slice(0, numberOfParticipants);\n",
        "\n",
        "      // Write the selected data to the 'Applicants' sheet\n",
        "      if (data.length > 0) {\n",
        "        applicantsSheet.getRange(1, 1, data.length, data[0].length).setValues(data);\n",
        "      }\n",
        "\n",
        "      // Log a message to indicate that the update is complete\n",
        "      Logger.log(\"Data has been updated in the 'Applicants' sheet.\");\n",
        "\n",
        "      // Check if there are final participants to write to 'FinalParticipants' sheet\n",
        "      if (finalParticipantsData.length > 0) {\n",
        "        // Write the selected data to the 'FinalParticipants' sheet, starting from the 2nd row\n",
        "        finalParticipantsSheet.getRange(2, 1, finalParticipantsData.length, finalParticipantsData[0].length).setValues(finalParticipantsData);\n",
        "\n",
        "        // Get the header row from the 'Applicants' sheet\n",
        "        var headerRow = applicantsSheet.getRange(1, 1, 1, applicantsSheet.getLastColumn()).getValues();\n",
        "\n",
        "        // Place the header row in the 'FinalParticipants' sheet\n",
        "        finalParticipantsSheet.getRange(1, 1, 1, headerRow[0].length).setValues(headerRow);\n",
        "\n",
        "        Logger.log(\"Data has been updated in the 'FinalParticipants' sheet.\");\n",
        "      } else {\n",
        "        Logger.log(\"No final participants to update in the 'FinalParticipants' sheet.\");\n",
        "      }\n",
        "    } else if (c8Value === \"no\") {\n",
        "      // If C8 is \"NO,\" clear both 'Applicants' and 'FinalParticipants' sheets\n",
        "      var applicantsSheet = destinationSpreadsheet.getSheetByName(\"Applicants\");\n",
        "      var finalParticipantsSheet = destinationSpreadsheet.getSheetByName(\"FinalParticipants\");\n",
        "\n",
        "      applicantsSheet.clear();\n",
        "      finalParticipantsSheet.clear();\n",
        "      Logger.log(\"Cleared data in 'Applicants' and 'FinalParticipants' sheets.\");\n",
        "    } else {\n",
        "      // Handle other values of C8 as needed\n",
        "      Logger.log(\"C8 has an unsupported value.\");\n",
        "    }\n",
        "  } catch (error) {\n",
        "    Logger.log(\"Error: \" + error.toString());\n",
        "  }\n",
        "}"
      ],
      "metadata": {
        "id": "T4Ina4b2xzLi"
      },
      "execution_count": null,
      "outputs": []
    }
  ]
}